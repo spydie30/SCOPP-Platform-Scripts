{
 "cells": [
  {
   "cell_type": "code",
   "execution_count": 2,
   "id": "3c003e5e",
   "metadata": {},
   "outputs": [],
   "source": [
    "import pandas as pd\n",
    "import re"
   ]
  },
  {
   "cell_type": "code",
   "execution_count": 9,
   "id": "04c678eb",
   "metadata": {},
   "outputs": [],
   "source": [
    "def is_valid_username(username):\n",
    "    # Regular expression pattern for the username format BR123456-FirstLast.\n",
    "    pattern = r\"^[A-Z]{2}\\d{6}-[A-Z][a-z]+([A-Z][a-z]+)$\"\n",
    "    # Use the re.match function to check if the username matches the pattern.\n",
    "    if re.match(pattern, username):\n",
    "        return True\n",
    "    else:\n",
    "        return False"
   ]
  },
  {
   "cell_type": "code",
   "execution_count": 25,
   "id": "d0afcb8f",
   "metadata": {},
   "outputs": [
    {
     "name": "stdout",
     "output_type": "stream",
     "text": [
      "Enrollment: 0818AB123456\n",
      "First Name: John\n",
      "Last Name: Doe\n"
     ]
    }
   ],
   "source": [
    "def separate_parts(username):\n",
    "    # Define a regular expression pattern to extract enrollment and name parts.\n",
    "    pattern = r\"^([A-Z]{2}\\d{6})-([A-Z][a-z]+(?:[A-Z][a-z]+)*)$\"\n",
    "    \n",
    "    # Use re.match to find the parts.\n",
    "    match = re.match(pattern, username)\n",
    "    \n",
    "    if match:\n",
    "        enrollment_part = match.group(1)\n",
    "        name_part = match.group(2)\n",
    "        # Split the name part into first and last names.\n",
    "        name_parts = re.findall(r'[A-Z][a-z]*', name_part)\n",
    "        \n",
    "        # If there are two or more name parts, assume the last one is the last name.\n",
    "        if len(name_parts) >= 2:\n",
    "            first_name = name_parts[0]\n",
    "            last_name = name_parts[-1]\n",
    "        else:\n",
    "            first_name = name_part  # If there's only one name part, consider it the first name.\n",
    "            last_name = \"\"\n",
    "        \n",
    "        return enrollment_part, first_name, last_name\n",
    "    else:\n",
    "        return None, None, None\n",
    "\n",
    "# Example usage:\n",
    "username = \"AB123456-JohnDoe\"\n",
    "enrollment, first_name, last_name = separate_parts(username)\n",
    "\n",
    "if enrollment:\n",
    "    enrollment=\"0818\"+enrollment\n",
    "    print(f\"Enrollment: {enrollment}\")\n",
    "    print(f\"First Name: {first_name}\")\n",
    "    print(f\"Last Name: {last_name}\")\n",
    "else:\n",
    "    print(\"Invalid username format.\")"
   ]
  },
  {
   "cell_type": "code",
   "execution_count": 24,
   "id": "f564e59d",
   "metadata": {},
   "outputs": [
    {
     "data": {
      "text/html": [
       "<div>\n",
       "<style scoped>\n",
       "    .dataframe tbody tr th:only-of-type {\n",
       "        vertical-align: middle;\n",
       "    }\n",
       "\n",
       "    .dataframe tbody tr th {\n",
       "        vertical-align: top;\n",
       "    }\n",
       "\n",
       "    .dataframe thead th {\n",
       "        text-align: right;\n",
       "    }\n",
       "</style>\n",
       "<table border=\"1\" class=\"dataframe\">\n",
       "  <thead>\n",
       "    <tr style=\"text-align: right;\">\n",
       "      <th></th>\n",
       "      <th>identifier</th>\n",
       "      <th>github_username</th>\n",
       "      <th>github_id</th>\n",
       "      <th>name</th>\n",
       "    </tr>\n",
       "  </thead>\n",
       "  <tbody>\n",
       "    <tr>\n",
       "      <th>0</th>\n",
       "      <td>Abhishek Rajpoot</td>\n",
       "      <td>CS211009-AbhishekRajput</td>\n",
       "      <td>144265821</td>\n",
       "      <td>Deleted user</td>\n",
       "    </tr>\n",
       "    <tr>\n",
       "      <th>1</th>\n",
       "      <td>Anshul Sharma</td>\n",
       "      <td>0818cs211032-AnshulSharma</td>\n",
       "      <td>139057485</td>\n",
       "      <td>0818cs211032-AnshulSharma</td>\n",
       "    </tr>\n",
       "    <tr>\n",
       "      <th>2</th>\n",
       "      <td>Harsh Hatej</td>\n",
       "      <td>CS211066-HarshHatej</td>\n",
       "      <td>144616839</td>\n",
       "      <td>NaN</td>\n",
       "    </tr>\n",
       "    <tr>\n",
       "      <th>3</th>\n",
       "      <td>SIDDHESH JOSHI</td>\n",
       "      <td>abhishek9r</td>\n",
       "      <td>112405138</td>\n",
       "      <td>Abhishek Rajput</td>\n",
       "    </tr>\n",
       "  </tbody>\n",
       "</table>\n",
       "</div>"
      ],
      "text/plain": [
       "         identifier            github_username  github_id  \\\n",
       "0  Abhishek Rajpoot    CS211009-AbhishekRajput  144265821   \n",
       "1     Anshul Sharma  0818cs211032-AnshulSharma  139057485   \n",
       "2       Harsh Hatej        CS211066-HarshHatej  144616839   \n",
       "3    SIDDHESH JOSHI                 abhishek9r  112405138   \n",
       "\n",
       "                        name  \n",
       "0               Deleted user  \n",
       "1  0818cs211032-AnshulSharma  \n",
       "2                        NaN  \n",
       "3            Abhishek Rajput  "
      ]
     },
     "execution_count": 24,
     "metadata": {},
     "output_type": "execute_result"
    }
   ],
   "source": [
    "# Define the file paths for your CSV files\n",
    "roster_file_path = \"Test-IIST.csv\"\n",
    "#file2_path = \"file2.csv\"\n",
    "\n",
    "# Load the CSV files into pandas DataFrames\n",
    "df1 = pd.read_csv(roster_file_path)\n",
    "#df2 = pd.read_csv(file2_path)\n",
    "\n",
    "# Specify the columns you want to match\n",
    "#column_to_match1 = \"A\"\n",
    "#column_to_match2 = \"B\"\n",
    "\n",
    "# Merge the DataFrames based on the specified columns\n",
    "#merged_df = pd.merge(df1, df2, left_on=column_to_match1, right_on=column_to_match2)\n",
    "\n",
    "# Display the resulting merged DataFrame\n",
    "#print(merged_df)\n",
    "df1\n"
   ]
  },
  {
   "cell_type": "code",
   "execution_count": 26,
   "id": "3838bfb2",
   "metadata": {},
   "outputs": [
    {
     "data": {
      "text/plain": [
       "' \\nVerify identifiers with official names and point out unkown names\\n>Instructor should wait for roaster correction before assigning\\nVerify naming convention then extract 3 parts(ennrollment, FNAME, LNAME), point out those who have voilated convention\\nVerify enrollement if present in official records and point out those with wrong enrollement\\nalso crosscheck names point out if wrong\\n\\n'"
      ]
     },
     "execution_count": 26,
     "metadata": {},
     "output_type": "execute_result"
    }
   ],
   "source": [
    "\"\"\" \n",
    "Verify identifiers with official names and point out unkown names\n",
    ">Instructor should wait for roaster correction before assigning\n",
    "Verify naming convention then extract 3 parts(ennrollment, FNAME, LNAME), point out those who have voilated convention\n",
    "Verify enrollement if present in official records and point out those with wrong enrollement\n",
    "also crosscheck names point out if wrong\n",
    "\n",
    "\"\"\""
   ]
  },
  {
   "cell_type": "code",
   "execution_count": null,
   "id": "3f07954a",
   "metadata": {},
   "outputs": [],
   "source": []
  }
 ],
 "metadata": {
  "kernelspec": {
   "display_name": "Python 3 (ipykernel)",
   "language": "python",
   "name": "python3"
  },
  "language_info": {
   "codemirror_mode": {
    "name": "ipython",
    "version": 3
   },
   "file_extension": ".py",
   "mimetype": "text/x-python",
   "name": "python",
   "nbconvert_exporter": "python",
   "pygments_lexer": "ipython3",
   "version": "3.10.9"
  }
 },
 "nbformat": 4,
 "nbformat_minor": 5
}
